{
 "cells": [
  {
   "cell_type": "markdown",
   "id": "540553a2",
   "metadata": {},
   "source": [
    "# Initialize"
   ]
  },
  {
   "cell_type": "code",
   "execution_count": null,
   "id": "c949437c",
   "metadata": {},
   "outputs": [],
   "source": [
    "import warnings\n",
    "# Ignore all warnings\n",
    "warnings.filterwarnings('ignore')"
   ]
  },
  {
   "cell_type": "code",
   "execution_count": null,
   "id": "69d2b9fc",
   "metadata": {},
   "outputs": [],
   "source": [
    "import hc_uwi\n",
    "from hc_uwi import *\n",
    "\n",
    "# Display all columns in dataframe\n",
    "pd.options.display.max_columns = None"
   ]
  },
  {
   "cell_type": "code",
   "execution_count": null,
   "id": "7c0ca42b",
   "metadata": {},
   "outputs": [],
   "source": [
    "schema = 'MY_DB_SCHEMA'\n",
    "my_credentials = get_credentials('my_credentials.txt',schema)"
   ]
  },
  {
   "cell_type": "markdown",
   "id": "031c8a12",
   "metadata": {},
   "source": [
    "# Built-in functions\n",
    "\n",
    "### SQL query to object creation\n",
    "<ol>\n",
    "    <li> query_to_df(query,schema,chunk_size=1000000) </li>\n",
    "    <li> query_to_df_whole_timeline(query,schema,date_start,date_end,chunk_size=1000000) </li>\n",
    "    <li> var_query_to_df(\n",
    "        query_c_date,schema,date_start,date_end,\n",
    "        time_out=60,temporal='days',increment=1,chunk_size=1000000) </li>\n",
    "    <li> query_to_excel(schema,query,fname,sheet_name=None,chunk_size=1000000) </li>\n",
    "    <li> query_create_table(query,schema,table_name,source_owner='TEST_OWNER',source_table='TEST_TABLE') </li>\n",
    "    <li> query_create_gtt(query,schema,table_name,source_owner='TEST_OWNER',source_table='TEST_TABLE') </li>\n",
    "    <li> query_merge(df,query,schema,table_name,connection_key) </li>\n",
    "    <li> query_create_package(query,query_sample,schema,table_name,connection_key) </li>\n",
    "    <li> query_merge_when_matched_and_or_not_matched(query,schema,table_name) </li>\n",
    "    <li> query_insert_when_not_matched(query,schema,table_name) </li>\n",
    "</ol>\n",
    "\n",
    "### Data Cleaning/Manipulation\n",
    "<ol>\n",
    "    <li> replace_special_char(string,character) </li>\n",
    "    <li> remove_digits(string) </li>\n",
    "    <li> remove_end_char(string,character) </li>\n",
    "    <li> clean_char(string,character) </li>\n",
    "    <li> days_between(d1,d2,temporal='days') </li>\n",
    "    <li> ora_date_to_pydate(var_date) </li>\n",
    "    <li> ora_date_inc(var_date,temporal,increment) </li>\n",
    "    <li> df_fix_dtype(df,schema,dtyp=None) </li>\n",
    "    <li> replace_word_containing_substring(text, substring, replacement) </li>\n",
    "    <li> var_query_fstring(text,c_date_start,c_date_end) </li>\n",
    "    <li> fix_ora_string(string,substr=\"'\",new_substr=\"''\") </li>\n",
    "    <li> fix_ora_col_length(df1,df2,engine,cursor,schema,table_name,source_owner,source_table) </li>\n",
    "    <li> split_dataframe(df, chunk_size) </li>\n",
    "    <li> get_py_dtyp_as_dict(df) </li>\n",
    "    <li> get_sqlalchemy_dtyp_dict(df,engine,source_owner='TEST_OWNER',source_table='TEST_TABLE') </li>\n",
    "    <li> get_ora_dtyp_dict(df,engine,source_owner='TEST_OWNER',source_table='TEST_TABLE') </li>\n",
    "    <li> get_ora_dtyp_varchar_dict(df,engine,source_owner='TEST_OWNER',source_table='TEST_TABLE') </li>\n",
    "    <li> check_dtime(series) </li>\n",
    "    <li> is_nan(val) </li>\n",
    "    <li> excel_df_fix_strftime(df) </li>\n",
    "</ol>\n",
    "\n",
    "### Create/Modify SQL objects\n",
    "<ol>\n",
    "    <li> df_to_sql(df,schema,table_name,dtyp=None,is_dtyp_fixed='NO') </li>\n",
    "    <li> excel_to_sql(fname,schema,table_name,sheet_name,dtyp=None) </li>\n",
    "    <li> merge_to_sql(query,query_sample,schema,table_name,connection_key) </li>\n",
    "    <li> var_merge_to_sql(schema,source_table,source_owner,\n",
    "        query_c_date,query_sample,date_start,date_end,\n",
    "        connection_key,time_out=60,temporal='days',increment=1,direction=1) </li>\n",
    "    <li> insert_row_to_sql(df,df_base,schema,table_name,source_owner,source_table) </li>\n",
    "    <li> bulk_insert_row_to_sql(df,df_base,schema,table_name) </li>\n",
    "    <li> create_table_sql(query,fname,schema,table_name,sheet_name) </li>\n",
    "</ol>"
   ]
  },
  {
   "cell_type": "code",
   "execution_count": null,
   "id": "21eba60f",
   "metadata": {},
   "outputs": [],
   "source": []
  }
 ],
 "metadata": {
  "kernelspec": {
   "display_name": "Python 3 (ipykernel)",
   "language": "python",
   "name": "python3"
  },
  "language_info": {
   "codemirror_mode": {
    "name": "ipython",
    "version": 3
   },
   "file_extension": ".py",
   "mimetype": "text/x-python",
   "name": "python",
   "nbconvert_exporter": "python",
   "pygments_lexer": "ipython3",
   "version": "3.10.9"
  }
 },
 "nbformat": 4,
 "nbformat_minor": 5
}
